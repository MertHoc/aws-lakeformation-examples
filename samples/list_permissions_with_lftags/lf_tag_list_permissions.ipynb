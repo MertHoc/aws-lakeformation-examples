{
 "cells": [
  {
   "cell_type": "markdown",
   "metadata": {},
   "source": [
    "# This notebook demonstrates how ListPermissions works with LFTags. \n",
    "This notebook is example code, not meant for any other purpose other than demonstration. "
   ]
  },
  {
   "cell_type": "code",
   "execution_count": 3,
   "metadata": {},
   "outputs": [],
   "source": [
    "import boto3\n",
    "\n",
    "REGION='us-east-1'\n",
    "\n",
    "p_session = boto3.session.Session(profile_name='default')\n",
    "p_glue = p_session.client('glue', region_name=REGION)\n",
    "p_lf = p_session.client('lakeformation', region_name=REGION)"
   ]
  },
  {
   "cell_type": "markdown",
   "metadata": {},
   "source": [
    "### Constants"
   ]
  },
  {
   "cell_type": "code",
   "execution_count": 4,
   "metadata": {},
   "outputs": [],
   "source": [
    "DB_S3_LOCATION='s3://abcdefghi-us-east-1/lfpermslisttest/'\n",
    "DATABASE_NAME='lf_list_perms_test'\n",
    "TABLE_NAME='lf_tag_test_table1'\n",
    "LF_TAG_1_NAME='list_perm_tag_1'\n",
    "LF_TAG_2_NAME='list_perm_tag_2'\n",
    "USER_ARN='arn:aws:iam::123456789012:role/admin'"
   ]
  },
  {
   "cell_type": "markdown",
   "metadata": {},
   "source": [
    "### Create my database and table if they dont exist"
   ]
  },
  {
   "cell_type": "code",
   "execution_count": 5,
   "metadata": {},
   "outputs": [
    {
     "name": "stdout",
     "output_type": "stream",
     "text": [
      "An error occurred (AlreadyExistsException) when calling the CreateDatabase operation: Database already exists.\n",
      "An error occurred (AlreadyExistsException) when calling the CreateTable operation: Table already exists.\n"
     ]
    }
   ],
   "source": [
    "try:\n",
    "    p_glue.create_database(\n",
    "        DatabaseInput = {\n",
    "            'Name': DATABASE_NAME,\n",
    "            'LocationUri' : DB_S3_LOCATION\n",
    "        }\n",
    "    )\n",
    "except Exception as e:\n",
    "    print(e)\n",
    "\n",
    "try:\n",
    "    p_glue.create_table(\n",
    "        DatabaseName=DATABASE_NAME,\n",
    "        TableInput={\n",
    "            'Name': TABLE_NAME,\n",
    "            'StorageDescriptor': {\n",
    "                'Columns': [\n",
    "                    {'Name': 'customer_id','Type': 'bigint'},\n",
    "                    {'Name': 'prefix','Type': 'string'},\n",
    "                    {'Name': 'first_name','Type': 'string'},\n",
    "                    {'Name': 'middle_name','Type': 'string'},\n",
    "                    {'Name': 'last_name','Type': 'string'},\n",
    "                    {'Name': 'suffix','Type': 'string'},\n",
    "                    {'Name': 'gender','Type': 'string'},\n",
    "                    {'Name': 'dob','Type': 'string'},\n",
    "                    {'Name': 'phone','Type': 'string'},\n",
    "                    {'Name': 'building_number','Type': 'bigint'},\n",
    "                    {'Name': 'street_name','Type': 'string'},\n",
    "                    {'Name': 'city','Type': 'string'},\n",
    "                    {'Name': 'cust_zip','Type': 'bigint'},\n",
    "                    {'Name': 'country','Type': 'string' }\n",
    "                ],\n",
    "                'Location': '',\n",
    "                'InputFormat': 'org.apache.hadoop.mapred.TextInputFormat',\n",
    "                'OutputFormat': 'org.apache.hadoop.hive.ql.io.HiveIgnoreKeyTextOutputFormat',\n",
    "                'Compressed': False,\n",
    "                'NumberOfBuckets': 0,\n",
    "                'SerdeInfo': {\n",
    "                    'SerializationLibrary': 'org.apache.hadoop.hive.serde2.OpenCSVSerde',\n",
    "                    'Parameters': {\n",
    "                        'separatorChar': ','\n",
    "                    }\n",
    "                },\n",
    "                'SortColumns': [],\n",
    "                'StoredAsSubDirectories': False\n",
    "            },\n",
    "            'PartitionKeys': [],\n",
    "            'TableType': 'EXTERNAL_TABLE',\n",
    "            'Parameters': {\n",
    "                'classification': 'csv',\n",
    "                'lakeformation.aso.status': 'false'\n",
    "            }\n",
    "        }\n",
    "    )\n",
    "except Exception as e:\n",
    "    print(e)\n"
   ]
  },
  {
   "cell_type": "markdown",
   "metadata": {},
   "source": [
    "### Create my tags if they dont exist."
   ]
  },
  {
   "cell_type": "code",
   "execution_count": 6,
   "metadata": {},
   "outputs": [
    {
     "name": "stdout",
     "output_type": "stream",
     "text": [
      "An error occurred (InvalidInputException) when calling the CreateLFTag operation: Tag key already exists\n",
      "An error occurred (InvalidInputException) when calling the CreateLFTag operation: Tag key already exists\n"
     ]
    }
   ],
   "source": [
    "try:\n",
    "    p_lf.create_lf_tag(\n",
    "        TagKey=LF_TAG_1_NAME,\n",
    "        TagValues=[\n",
    "            'val1',\n",
    "            'val2',\n",
    "            'val3'\n",
    "        ]\n",
    "    )\n",
    "except Exception as e:\n",
    "    print(e)\n",
    "\n",
    "try:\n",
    "    p_lf.create_lf_tag(\n",
    "        TagKey=LF_TAG_2_NAME,\n",
    "        TagValues=[\n",
    "            'val1',\n",
    "            'val2',\n",
    "            'val3'\n",
    "        ]\n",
    "    )\n",
    "except Exception as e:\n",
    "    print(e)\n"
   ]
  },
  {
   "cell_type": "markdown",
   "metadata": {},
   "source": [
    "### Associate the tags to my resources."
   ]
  },
  {
   "cell_type": "code",
   "execution_count": 7,
   "metadata": {},
   "outputs": [
    {
     "data": {
      "text/plain": [
       "{'ResponseMetadata': {'RequestId': '8e17a84b-afeb-4c4d-8513-d2d480c71182',\n",
       "  'HTTPStatusCode': 200,\n",
       "  'HTTPHeaders': {'date': 'Thu, 05 Oct 2023 20:14:44 GMT',\n",
       "   'content-type': 'application/json',\n",
       "   'content-length': '15',\n",
       "   'connection': 'keep-alive',\n",
       "   'x-amzn-requestid': '8e17a84b-afeb-4c4d-8513-d2d480c71182',\n",
       "   'cache-control': 'no-cache'},\n",
       "  'RetryAttempts': 0},\n",
       " 'Failures': []}"
      ]
     },
     "execution_count": 7,
     "metadata": {},
     "output_type": "execute_result"
    }
   ],
   "source": [
    "p_lf.add_lf_tags_to_resource(\n",
    "    Resource={\n",
    "        'Database': {\n",
    "            'Name': DATABASE_NAME\n",
    "        }\n",
    "    },\n",
    "    LFTags=[\n",
    "        {\n",
    "            'TagKey':  LF_TAG_1_NAME,\n",
    "            'TagValues': [\n",
    "                'val1'\n",
    "            ]\n",
    "        },\n",
    "        {\n",
    "            'TagKey':  LF_TAG_2_NAME,\n",
    "            'TagValues': [\n",
    "                'val2'\n",
    "            ]\n",
    "        }\n",
    "    ]\n",
    ")\n",
    "\n",
    "p_lf.add_lf_tags_to_resource(\n",
    "    Resource={\n",
    "        'Table': {\n",
    "            'DatabaseName' : DATABASE_NAME,\n",
    "            'Name': TABLE_NAME\n",
    "        }\n",
    "    },\n",
    "    LFTags=[\n",
    "        {\n",
    "            'TagKey':  LF_TAG_1_NAME,\n",
    "            'TagValues': [\n",
    "                'val2'\n",
    "            ]\n",
    "        },\n",
    "        {\n",
    "            'TagKey':  LF_TAG_2_NAME,\n",
    "            'TagValues': [\n",
    "                'val1'\n",
    "            ]\n",
    "        }\n",
    "    ]\n",
    ")"
   ]
  },
  {
   "cell_type": "markdown",
   "metadata": {},
   "source": [
    "### Grant permissions to my user\n",
    "User will have two grants with the following expressions: \n",
    "* Database permission - LFTag Expression \"LF_TAG1 = val1 AND LFTAG2 = val2\"\n",
    "* Table permissions - LFTag Expression \"LF_TAG1 = val1 AND LFTAG2 = val2\"\n",
    "* Table permissions - LFTag Expression \"LF_TAG1 = (val2 OR val3) AND LFTAG2 = (val3)\""
   ]
  },
  {
   "cell_type": "code",
   "execution_count": 12,
   "metadata": {},
   "outputs": [
    {
     "data": {
      "text/plain": [
       "{'ResponseMetadata': {'RequestId': '26a8fdb6-d5e5-493e-831f-6cae7f4fc9aa',\n",
       "  'HTTPStatusCode': 200,\n",
       "  'HTTPHeaders': {'date': 'Thu, 05 Oct 2023 20:17:10 GMT',\n",
       "   'content-type': 'application/json',\n",
       "   'content-length': '2',\n",
       "   'connection': 'keep-alive',\n",
       "   'x-amzn-requestid': '26a8fdb6-d5e5-493e-831f-6cae7f4fc9aa',\n",
       "   'cache-control': 'no-cache'},\n",
       "  'RetryAttempts': 0}}"
      ]
     },
     "execution_count": 12,
     "metadata": {},
     "output_type": "execute_result"
    }
   ],
   "source": [
    "p_lf.grant_permissions(\n",
    "    Principal={\n",
    "        'DataLakePrincipalIdentifier': USER_ARN\n",
    "    },\n",
    "    Resource={\n",
    "        'LFTagPolicy': {\n",
    "            'ResourceType': 'DATABASE',\n",
    "            'Expression' : [\n",
    "                {\n",
    "                    'TagKey': LF_TAG_1_NAME,\n",
    "                    'TagValues': [\n",
    "                        'val1'\n",
    "                    ]\n",
    "                },\n",
    "                {\n",
    "                    'TagKey': LF_TAG_2_NAME,\n",
    "                    'TagValues': [\n",
    "                        'val2'\n",
    "                    ]\n",
    "                }\n",
    "            ]\n",
    "        }\n",
    "    },\n",
    "    Permissions=['DESCRIBE', 'ALTER']\n",
    ")\n",
    "\n",
    "\n",
    "p_lf.grant_permissions(\n",
    "    Principal={\n",
    "        'DataLakePrincipalIdentifier': USER_ARN\n",
    "    },\n",
    "    Resource={\n",
    "        'LFTagPolicy': {\n",
    "            'ResourceType': 'TABLE',\n",
    "            'Expression': [\n",
    "                {\n",
    "                    'TagKey': LF_TAG_1_NAME,\n",
    "                    'TagValues': [\n",
    "                        'val1'\n",
    "                    ]\n",
    "                },\n",
    "                {\n",
    "                    'TagKey': LF_TAG_2_NAME,\n",
    "                    'TagValues': [\n",
    "                        'val2'\n",
    "                    ]\n",
    "                }\n",
    "            ]\n",
    "        }\n",
    "    },\n",
    "    Permissions=['SELECT', 'DESCRIBE', 'ALTER']\n",
    ")\n",
    "\n",
    "p_lf.grant_permissions(\n",
    "    Principal={\n",
    "        'DataLakePrincipalIdentifier': USER_ARN\n",
    "    },\n",
    "    Resource={\n",
    "        'LFTagPolicy': {\n",
    "            'ResourceType': 'TABLE',\n",
    "            'Expression': [\n",
    "                {\n",
    "                    'TagKey': LF_TAG_1_NAME,\n",
    "                    'TagValues': [\n",
    "                        'val2',\n",
    "                        'val3'\n",
    "                    ]\n",
    "                },\n",
    "                {\n",
    "                    'TagKey': LF_TAG_2_NAME,\n",
    "                    'TagValues': [\n",
    "                        'val3'\n",
    "                    ]\n",
    "                }\n",
    "            ]\n",
    "        }\n",
    "    },\n",
    "    Permissions=['SELECT', 'DESCRIBE', 'ALTER']\n",
    ")"
   ]
  },
  {
   "cell_type": "markdown",
   "metadata": {},
   "source": [
    "### ListPermissions Behavior \n",
    "When using the ListPermissions API, and using filters, there must be an exact match for the filtering to occur. Partial searches are not supported yet. Below will demonstrate the behavior with different filters."
   ]
  },
  {
   "cell_type": "markdown",
   "metadata": {},
   "source": [
    "This block shows the current LF Tag Policies that exists in my account. The three that I created above."
   ]
  },
  {
   "cell_type": "code",
   "execution_count": 13,
   "metadata": {},
   "outputs": [
    {
     "name": "stdout",
     "output_type": "stream",
     "text": [
      "{'Principal': {'DataLakePrincipalIdentifier': 'arn:aws:iam::123456789012:role/admin'}, 'Resource': {'LFTagPolicy': {'CatalogId': '123456789012', 'ResourceType': 'DATABASE', 'Expression': [{'TagKey': 'list_perm_tag_2', 'TagValues': ['val2']}, {'TagKey': 'list_perm_tag_1', 'TagValues': ['val1']}]}}, 'Permissions': ['ALTER', 'DESCRIBE'], 'PermissionsWithGrantOption': [], 'LastUpdated': datetime.datetime(2023, 10, 5, 16, 17, 10, 67000, tzinfo=tzlocal()), 'LastUpdatedBy': 'arn:aws:iam::123456789012:user/abcdefghi'}\n",
      "{'Principal': {'DataLakePrincipalIdentifier': 'arn:aws:iam::123456789012:role/admin'}, 'Resource': {'LFTagPolicy': {'CatalogId': '123456789012', 'ResourceType': 'TABLE', 'Expression': [{'TagKey': 'list_perm_tag_2', 'TagValues': ['val2']}, {'TagKey': 'list_perm_tag_1', 'TagValues': ['val1']}]}}, 'Permissions': ['ALTER', 'DESCRIBE', 'SELECT'], 'PermissionsWithGrantOption': [], 'LastUpdated': datetime.datetime(2023, 10, 5, 16, 17, 10, 334000, tzinfo=tzlocal()), 'LastUpdatedBy': 'arn:aws:iam::123456789012:user/abcdefghi'}\n",
      "{'Principal': {'DataLakePrincipalIdentifier': 'arn:aws:iam::123456789012:role/admin'}, 'Resource': {'LFTagPolicy': {'CatalogId': '123456789012', 'ResourceType': 'TABLE', 'Expression': [{'TagKey': 'list_perm_tag_1', 'TagValues': ['val3', 'val2']}, {'TagKey': 'list_perm_tag_2', 'TagValues': ['val3']}]}}, 'Permissions': ['ALTER', 'DESCRIBE', 'SELECT'], 'PermissionsWithGrantOption': [], 'LastUpdated': datetime.datetime(2023, 10, 5, 16, 17, 10, 634000, tzinfo=tzlocal()), 'LastUpdatedBy': 'arn:aws:iam::123456789012:user/abcdefghi'}\n"
     ]
    }
   ],
   "source": [
    "perms = p_lf.list_permissions(\n",
    "    ResourceType='LF_TAG_POLICY'\n",
    ")\n",
    "\n",
    "for perm in perms['PrincipalResourcePermissions']:\n",
    "    print(perm)"
   ]
  },
  {
   "cell_type": "markdown",
   "metadata": {},
   "source": [
    "### ListPermissions with DataLakePrincipalIdentifier\n",
    "When DataLakePrincipalIdentifer (DLPI) is used as a filter, the behavior of the API changes. Here are some important differences:\n",
    "* If DLPI is specified, you must specify the Resource field. For LF tags, it would be a database, table, LF-Tag Policy, LF Tag permissions, or any other permission types. \n",
    "* The ListPermissions API may contain some additional policies that ListPermissions without the DLPI may now show. This is because when DLPI is specified, the service provides some (not all) implicit permissions. For example, my user is a LF-Admin and calling ListPermissions on a table or database will provide Grantable permissions that was not explicity granted. This is because LF-Admins (non read-only) have grantable permissions on everything in the GDC."
   ]
  },
  {
   "cell_type": "code",
   "execution_count": 17,
   "metadata": {},
   "outputs": [
    {
     "name": "stdout",
     "output_type": "stream",
     "text": [
      "{'Principal': {'DataLakePrincipalIdentifier': 'arn:aws:iam::123456789012:role/admin'}, 'Resource': {'LFTagPolicy': {'CatalogId': '123456789012', 'ResourceType': 'TABLE', 'Expression': [{'TagKey': 'list_perm_tag_1', 'TagValues': ['val3', 'val2']}, {'TagKey': 'list_perm_tag_2', 'TagValues': ['val3']}]}}, 'Permissions': ['ALTER', 'DESCRIBE', 'SELECT'], 'PermissionsWithGrantOption': ['ALL', 'ALTER', 'DELETE', 'DESCRIBE', 'DROP', 'INSERT', 'SELECT']}\n"
     ]
    }
   ],
   "source": [
    "perms = p_lf.list_permissions(\n",
    "    Principal={\n",
    "        'DataLakePrincipalIdentifier': USER_ARN\n",
    "    },\n",
    "    ResourceType='LF_TAG_POLICY',\n",
    "    Resource={\n",
    "        'LFTagPolicy': {\n",
    "            'ResourceType': 'TABLE',\n",
    "            'Expression': [\n",
    "                {\n",
    "                    'TagKey': LF_TAG_1_NAME,\n",
    "                    'TagValues': [\n",
    "                        'val2',\n",
    "                        'val3'\n",
    "                    ]\n",
    "                },\n",
    "                {\n",
    "                    'TagKey': LF_TAG_2_NAME,\n",
    "                    'TagValues': [\n",
    "                        'val3'\n",
    "                    ]\n",
    "                }\n",
    "            ]\n",
    "        }\n",
    "    }\n",
    ")\n",
    "\n",
    "for perm in perms['PrincipalResourcePermissions']:\n",
    "    print(perm)\n",
    "\n",
    "# As you can see, the grantable permissions are listed even though we have not explicity granted it because USER_ARN is a LF admin."
   ]
  },
  {
   "cell_type": "markdown",
   "metadata": {},
   "source": [
    "### Exact Expression Match\n",
    "In this block, we are listing permissinos based on the tag expression (LF_TAG1 = (val2 OR val3) AND LFTAG2 = (val3)). This returns 1 policy as expected because the expression exactly matches the expression in the policy that we created."
   ]
  },
  {
   "cell_type": "code",
   "execution_count": 11,
   "metadata": {},
   "outputs": [
    {
     "name": "stdout",
     "output_type": "stream",
     "text": [
      "{'Principal': {'DataLakePrincipalIdentifier': 'arn:aws:iam::123456789012:role/admin'}, 'Resource': {'LFTagPolicy': {'CatalogId': '123456789012', 'ResourceType': 'TABLE', 'Expression': [{'TagKey': 'list_perm_tag_2', 'TagValues': ['val3']}, {'TagKey': 'list_perm_tag_1', 'TagValues': ['val3']}]}}, 'Permissions': ['ALTER', 'DESCRIBE', 'SELECT'], 'PermissionsWithGrantOption': [], 'LastUpdated': datetime.datetime(2023, 10, 4, 19, 13, 58, 194000, tzinfo=tzlocal()), 'LastUpdatedBy': 'arn:aws:iam::123456789012:user/abcdefghi'}\n"
     ]
    }
   ],
   "source": [
    "perms = p_lf.list_permissions(\n",
    "    ResourceType='LF_TAG_POLICY',\n",
    "    Resource={\n",
    "        'LFTagPolicy': {\n",
    "            'ResourceType': 'TABLE',\n",
    "            'Expression': [\n",
    "                {\n",
    "                    'TagKey': LF_TAG_1_NAME,\n",
    "                    'TagValues': [\n",
    "                        'val2',\n",
    "                        'val3'\n",
    "                    ]\n",
    "                },\n",
    "                {\n",
    "                    'TagKey': LF_TAG_2_NAME,\n",
    "                    'TagValues': [\n",
    "                        'val3'\n",
    "                    ]\n",
    "                }\n",
    "            ]\n",
    "        }\n",
    "    }\n",
    ")\n",
    "\n",
    "for perm in perms['PrincipalResourcePermissions']:\n",
    "    print(perm)"
   ]
  },
  {
   "cell_type": "markdown",
   "metadata": {},
   "source": [
    "### Partial search for an LF-Tag (Single Tag)\n",
    "The following shows that we are searching only for a single LFTag and a single value (LF Tag Expression: \"LFTAG_1 = val3\"). This will not return any results because it does not exactly match the expression in my policy. "
   ]
  },
  {
   "cell_type": "code",
   "execution_count": 10,
   "metadata": {},
   "outputs": [],
   "source": [
    "perms = p_lf.list_permissions(\n",
    "    ResourceType='LF_TAG_POLICY',\n",
    "    Resource={\n",
    "        'LFTagPolicy': {\n",
    "            'ResourceType': 'TABLE',\n",
    "            'Expression': [\n",
    "                {\n",
    "                    'TagKey': LF_TAG_1_NAME,\n",
    "                    'TagValues': [\n",
    "                        'val3'\n",
    "                    ]\n",
    "                }\n",
    "            ]\n",
    "        }\n",
    "    }\n",
    ")\n",
    "\n",
    "for perm in perms['PrincipalResourcePermissions']:\n",
    "    print(perm)\n",
    "\n",
    "#No results is expected."
   ]
  },
  {
   "cell_type": "markdown",
   "metadata": {},
   "source": [
    "### Partial search for an LF-Tag (Multiple Tags)\n",
    "The following shows that we are searching only for two LFTags and a single value (LF Tag Expression: \"LFTAG_1 = val3 and LFTAG_2 = val3\"). This will not return any results because it does not exactly match the expression in my policy. "
   ]
  },
  {
   "cell_type": "code",
   "execution_count": 14,
   "metadata": {},
   "outputs": [],
   "source": [
    "perms = p_lf.list_permissions(\n",
    "    ResourceType='LF_TAG_POLICY',\n",
    "    Resource={\n",
    "        'LFTagPolicy': {\n",
    "            'ResourceType': 'TABLE',\n",
    "            'Expression': [\n",
    "                {\n",
    "                    'TagKey': LF_TAG_1_NAME,\n",
    "                    'TagValues': [\n",
    "                        'val3'\n",
    "                    ]\n",
    "                },            \n",
    "                {\n",
    "                    'TagKey': LF_TAG_2_NAME,\n",
    "                    'TagValues': [\n",
    "                        'val3'\n",
    "                    ]\n",
    "                }\n",
    "            ]\n",
    "        }\n",
    "    }\n",
    ")\n",
    "\n",
    "for perm in perms['PrincipalResourcePermissions']:\n",
    "    print(perm)"
   ]
  },
  {
   "cell_type": "markdown",
   "metadata": {},
   "source": [
    "### Doing a Partial Search\n",
    "If your use case is to find all the LF-Tag expressions where LFTAG_1 contains the value \"val1\", then you will have to iterate through all permissions, and filter the results based on what you are looking for. The LF service does not currently have any APIs that provides this functionality. "
   ]
  },
  {
   "cell_type": "code",
   "execution_count": 15,
   "metadata": {},
   "outputs": [
    {
     "name": "stdout",
     "output_type": "stream",
     "text": [
      "Found policy: {'Principal': {'DataLakePrincipalIdentifier': 'arn:aws:iam::123456789012:role/admin'}, 'Resource': {'LFTagPolicy': {'CatalogId': '123456789012', 'ResourceType': 'DATABASE', 'Expression': [{'TagKey': 'list_perm_tag_2', 'TagValues': ['val2']}, {'TagKey': 'list_perm_tag_1', 'TagValues': ['val1']}]}}, 'Permissions': ['ALTER', 'DESCRIBE'], 'PermissionsWithGrantOption': [], 'LastUpdated': datetime.datetime(2023, 10, 5, 16, 17, 10, 67000, tzinfo=tzlocal()), 'LastUpdatedBy': 'arn:aws:iam::123456789012:user/abcdefghi'}\n",
      "Found policy: {'Principal': {'DataLakePrincipalIdentifier': 'arn:aws:iam::123456789012:role/admin'}, 'Resource': {'LFTagPolicy': {'CatalogId': '123456789012', 'ResourceType': 'TABLE', 'Expression': [{'TagKey': 'list_perm_tag_2', 'TagValues': ['val2']}, {'TagKey': 'list_perm_tag_1', 'TagValues': ['val1']}]}}, 'Permissions': ['ALTER', 'DESCRIBE', 'SELECT'], 'PermissionsWithGrantOption': [], 'LastUpdated': datetime.datetime(2023, 10, 5, 16, 17, 10, 334000, tzinfo=tzlocal()), 'LastUpdatedBy': 'arn:aws:iam::123456789012:user/abcdefghi'}\n"
     ]
    }
   ],
   "source": [
    "perms = p_lf.list_permissions(\n",
    "    ResourceType='LF_TAG_POLICY'\n",
    ")\n",
    "\n",
    "for perm in perms['PrincipalResourcePermissions']:\n",
    "    for expression in perm['Resource']['LFTagPolicy']['Expression']:\n",
    "        if expression['TagKey'] == LF_TAG_1_NAME:\n",
    "            for tag_val in expression['TagValues']:\n",
    "                if tag_val == 'val1':\n",
    "                    print(f\"Found policy: {perm}\")"
   ]
  },
  {
   "cell_type": "markdown",
   "metadata": {},
   "source": [
    "## Cross Account Scenarios\n",
    "In these scenarios, I have another account (Account2) that has their own LF tags. Those LF-Tags are used to share resources to my account (Account1), and also shares two LF-Tags with ASSOCIATE and DESCRIBE permissions (). \n",
    "In my account, I create a resource link to a shared resource, and associate my accounts LF-Tags to the resource link. I then grant permissions on the expression to users using the same LFexpression that the other account used to share with my account. "
   ]
  },
  {
   "cell_type": "code",
   "execution_count": 21,
   "metadata": {},
   "outputs": [],
   "source": [
    "# Constants\n",
    "ACC2_ACCOUNT_ID='987654321098'\n",
    "ACC2_LF_TAG1_NAME='list_perm_tag_1'\n",
    "ACC2_LF_TAG2_NAME='list_perm_tag_2'\n",
    "ACC2_SHARED_DATABASE_NAME='lftags_test_database'\n",
    "DB_RL_NAME=ACC2_SHARED_DATABASE_NAME"
   ]
  },
  {
   "cell_type": "code",
   "execution_count": 19,
   "metadata": {},
   "outputs": [
    {
     "name": "stdout",
     "output_type": "stream",
     "text": [
      "{'CatalogId': '987654321098', 'TagKey': 'list_perm_tag_1', 'TagValues': ['val2', 'val1']}\n",
      "{'CatalogId': '987654321098', 'TagKey': 'list_perm_tag_2', 'TagValues': ['val2']}\n"
     ]
    }
   ],
   "source": [
    "tags = p_lf.list_lf_tags(\n",
    "    ResourceShareType='FOREIGN'\n",
    ")\n",
    "\n",
    "for tag in tags['LFTags']:\n",
    "    print(tag)"
   ]
  },
  {
   "cell_type": "markdown",
   "metadata": {},
   "source": [
    "### Create Resource link to shared database."
   ]
  },
  {
   "cell_type": "code",
   "execution_count": 23,
   "metadata": {},
   "outputs": [
    {
     "data": {
      "text/plain": [
       "{'ResponseMetadata': {'RequestId': 'b851d86e-5048-4d82-9bd6-b3ec91edef3e',\n",
       "  'HTTPStatusCode': 200,\n",
       "  'HTTPHeaders': {'date': 'Thu, 05 Oct 2023 23:22:40 GMT',\n",
       "   'content-type': 'application/x-amz-json-1.1',\n",
       "   'content-length': '2',\n",
       "   'connection': 'keep-alive',\n",
       "   'x-amzn-requestid': 'b851d86e-5048-4d82-9bd6-b3ec91edef3e'},\n",
       "  'RetryAttempts': 0}}"
      ]
     },
     "execution_count": 23,
     "metadata": {},
     "output_type": "execute_result"
    }
   ],
   "source": [
    "p_glue.create_database(\n",
    "    DatabaseInput={\n",
    "        'Name': DB_RL_NAME,\n",
    "        'TargetDatabase': {\n",
    "            'CatalogId': ACC2_ACCOUNT_ID,\n",
    "            'DatabaseName': ACC2_SHARED_DATABASE_NAME\n",
    "        }\n",
    "    }\n",
    ")"
   ]
  },
  {
   "cell_type": "markdown",
   "metadata": {},
   "source": [
    "### Look at the tags associated with the shared database from Account 2."
   ]
  },
  {
   "cell_type": "code",
   "execution_count": 28,
   "metadata": {},
   "outputs": [
    {
     "name": "stdout",
     "output_type": "stream",
     "text": [
      "{'CatalogId': '987654321098', 'TagKey': 'list_perm_tag_1', 'TagValues': ['val2']}\n",
      "{'CatalogId': '987654321098', 'TagKey': 'list_perm_tag_2', 'TagValues': ['val2']}\n"
     ]
    }
   ],
   "source": [
    "lf_tags = p_lf.get_resource_lf_tags(\n",
    "    Resource={\n",
    "        'Database': {\n",
    "            'CatalogId' : ACC2_ACCOUNT_ID,\n",
    "            'Name': ACC2_SHARED_DATABASE_NAME\n",
    "        }\n",
    "    },\n",
    "    ShowAssignedLFTags=True\n",
    ")\n",
    "\n",
    "for tag in lf_tags['LFTagOnDatabase']:\n",
    "    print(tag)"
   ]
  },
  {
   "cell_type": "markdown",
   "metadata": {},
   "source": [
    "### Associate Tags LFTAG_1:val1 and LFTAG_2:val2 to Resource link\n",
    "User was already granted this expression so they should see the resource link."
   ]
  },
  {
   "cell_type": "code",
   "execution_count": 29,
   "metadata": {},
   "outputs": [
    {
     "data": {
      "text/plain": [
       "{'ResponseMetadata': {'RequestId': '700d25ea-fae5-4913-8edf-069994292c79',\n",
       "  'HTTPStatusCode': 200,\n",
       "  'HTTPHeaders': {'date': 'Fri, 06 Oct 2023 00:24:47 GMT',\n",
       "   'content-type': 'application/json',\n",
       "   'content-length': '15',\n",
       "   'connection': 'keep-alive',\n",
       "   'x-amzn-requestid': '700d25ea-fae5-4913-8edf-069994292c79',\n",
       "   'cache-control': 'no-cache'},\n",
       "  'RetryAttempts': 0},\n",
       " 'Failures': []}"
      ]
     },
     "execution_count": 29,
     "metadata": {},
     "output_type": "execute_result"
    }
   ],
   "source": [
    "p_lf.add_lf_tags_to_resource(\n",
    "    Resource={\n",
    "       'Database': {\n",
    "            'Name': DB_RL_NAME\n",
    "        }\n",
    "    },\n",
    "    LFTags=[\n",
    "        {\n",
    "            'TagKey': LF_TAG_1_NAME,\n",
    "            'TagValues': [\n",
    "                'val1'\n",
    "            ]\n",
    "        },\n",
    "        {\n",
    "            'TagKey': LF_TAG_2_NAME,\n",
    "            'TagValues': [\n",
    "                'val2'\n",
    "            ]\n",
    "        }\n",
    "    ] \n",
    ")"
   ]
  },
  {
   "cell_type": "markdown",
   "metadata": {},
   "source": [
    "### List Permissions provided by the cross account (Account2)"
   ]
  },
  {
   "cell_type": "code",
   "execution_count": 36,
   "metadata": {},
   "outputs": [
    {
     "name": "stdout",
     "output_type": "stream",
     "text": [
      "{'Principal': {'DataLakePrincipalIdentifier': 'arn:aws:iam::123456789012:role/admin'}, 'Resource': {'LFTagPolicy': {'CatalogId': '987654321098', 'ResourceType': 'DATABASE', 'Expression': [{'TagKey': 'list_perm_tag_1', 'TagValues': ['val2', 'val1']}, {'TagKey': 'list_perm_tag_2', 'TagValues': ['val2']}]}}, 'Permissions': ['ALTER', 'DESCRIBE'], 'PermissionsWithGrantOption': [], 'LastUpdated': datetime.datetime(2023, 10, 5, 20, 25, 33, 277000, tzinfo=tzlocal()), 'LastUpdatedBy': 'arn:aws:iam::123456789012:user/abcdefghi'}\n"
     ]
    }
   ],
   "source": [
    "perms = p_lf.list_permissions(\n",
    "    ResourceType='LF_TAG_POLICY'\n",
    ")\n",
    "\n",
    "for perm in perms['PrincipalResourcePermissions']:\n",
    "    if perm['Resource']['LFTagPolicy']['CatalogId'] == ACC2_ACCOUNT_ID:\n",
    "        print(perm)"
   ]
  },
  {
   "cell_type": "markdown",
   "metadata": {},
   "source": [
    "### Grant permissions to the resouce link using my account (Account1) and grant permissions to admin role using Account2's expression"
   ]
  },
  {
   "cell_type": "code",
   "execution_count": 38,
   "metadata": {},
   "outputs": [
    {
     "data": {
      "text/plain": [
       "{'ResponseMetadata': {'RequestId': '361b1995-f553-439b-874c-ba6bba6177ac',\n",
       "  'HTTPStatusCode': 200,\n",
       "  'HTTPHeaders': {'date': 'Fri, 06 Oct 2023 00:30:52 GMT',\n",
       "   'content-type': 'application/json',\n",
       "   'content-length': '2',\n",
       "   'connection': 'keep-alive',\n",
       "   'x-amzn-requestid': '361b1995-f553-439b-874c-ba6bba6177ac',\n",
       "   'cache-control': 'no-cache'},\n",
       "  'RetryAttempts': 0}}"
      ]
     },
     "execution_count": 38,
     "metadata": {},
     "output_type": "execute_result"
    }
   ],
   "source": [
    "p_lf.grant_permissions(\n",
    "    Principal={\n",
    "        'DataLakePrincipalIdentifier': USER_ARN\n",
    "    },\n",
    "    Resource={\n",
    "        'LFTagPolicy': {\n",
    "            'CatalogId' : ACC2_ACCOUNT_ID,\n",
    "            'ResourceType': 'DATABASE',\n",
    "            'Expression' : [\n",
    "                {\n",
    "                    'TagKey': LF_TAG_1_NAME,\n",
    "                    'TagValues': [\n",
    "                        'val1',\n",
    "                        'val2'\n",
    "                    ]\n",
    "                },\n",
    "                {\n",
    "                    'TagKey': LF_TAG_2_NAME,\n",
    "                    'TagValues': [\n",
    "                        'val2'\n",
    "                    ]\n",
    "                }\n",
    "            ]\n",
    "        }\n",
    "    },\n",
    "    Permissions=['DESCRIBE', 'ALTER']\n",
    ")\n",
    "\n",
    "p_lf.grant_permissions(\n",
    "    Principal={\n",
    "        'DataLakePrincipalIdentifier': USER_ARN\n",
    "    },\n",
    "    Resource={\n",
    "        'LFTagPolicy': {\n",
    "            'CatalogId' : ACC2_ACCOUNT_ID,\n",
    "            'ResourceType': 'TABLE',\n",
    "            'Expression': [\n",
    "                {\n",
    "                    'TagKey': LF_TAG_1_NAME,\n",
    "                    'TagValues': [\n",
    "                        'val1',\n",
    "                        'val2'\n",
    "                    ]\n",
    "                },\n",
    "                {\n",
    "                    'TagKey': LF_TAG_2_NAME,\n",
    "                    'TagValues': [\n",
    "                        'val2'\n",
    "                    ]\n",
    "                }\n",
    "            ]\n",
    "        }\n",
    "    },\n",
    "    Permissions=['SELECT', 'DESCRIBE']\n",
    ")\n"
   ]
  },
  {
   "cell_type": "code",
   "execution_count": 39,
   "metadata": {},
   "outputs": [
    {
     "name": "stdout",
     "output_type": "stream",
     "text": [
      "{'Name': 'lftags_test_database', 'CreateTableDefaultPermissions': [], 'TargetDatabase': {'CatalogId': '987654321098', 'DatabaseName': 'lftags_test_database'}, 'CatalogId': '123456789012'}\n"
     ]
    }
   ],
   "source": [
    "db = p_glue.get_database(\n",
    "    Name=DB_RL_NAME\n",
    ")\n",
    "\n",
    "print(db['Database'])"
   ]
  },
  {
   "cell_type": "markdown",
   "metadata": {},
   "source": [
    "### List Perms on the user\n",
    "This shows the perms on the USER (the user is an LF-Admin, and we are providing the DataLakePrincipalIdentifer which is why its showing grantable)"
   ]
  },
  {
   "cell_type": "code",
   "execution_count": 44,
   "metadata": {},
   "outputs": [
    {
     "name": "stdout",
     "output_type": "stream",
     "text": [
      "{'Principal': {'DataLakePrincipalIdentifier': 'arn:aws:iam::123456789012:role/admin'}, 'Resource': {'LFTagPolicy': {'CatalogId': '987654321098', 'ResourceType': 'TABLE', 'Expression': [{'TagKey': 'list_perm_tag_1', 'TagValues': ['val2', 'val1']}, {'TagKey': 'list_perm_tag_2', 'TagValues': ['val2']}]}}, 'Permissions': ['DESCRIBE', 'INSERT', 'SELECT'], 'PermissionsWithGrantOption': ['DESCRIBE', 'INSERT', 'SELECT']}\n"
     ]
    }
   ],
   "source": [
    "perms = p_lf.list_permissions(\n",
    "    Principal={\n",
    "        'DataLakePrincipalIdentifier': USER_ARN\n",
    "    },\n",
    "    Resource={\n",
    "        'LFTagPolicy': {\n",
    "            'CatalogId' : ACC2_ACCOUNT_ID,\n",
    "            'ResourceType': 'TABLE',\n",
    "            'Expression': [\n",
    "                {\n",
    "                    'TagKey': LF_TAG_1_NAME,\n",
    "                    'TagValues': [\n",
    "                        'val1',\n",
    "                        'val2'\n",
    "                    ]\n",
    "                },\n",
    "                {\n",
    "                    'TagKey': LF_TAG_2_NAME,\n",
    "                    'TagValues': [\n",
    "                        'val2'\n",
    "                    ]\n",
    "                }\n",
    "            ]\n",
    "        }\n",
    "    }   \n",
    ")\n",
    "\n",
    "for perm in perms['PrincipalResourcePermissions']:\n",
    "    print(perm)"
   ]
  }
 ],
 "metadata": {
  "kernelspec": {
   "display_name": ".venv",
   "language": "python",
   "name": "python3"
  },
  "language_info": {
   "codemirror_mode": {
    "name": "ipython",
    "version": 3
   },
   "file_extension": ".py",
   "mimetype": "text/x-python",
   "name": "python",
   "nbconvert_exporter": "python",
   "pygments_lexer": "ipython3",
   "version": "3.11.4"
  },
  "orig_nbformat": 4
 },
 "nbformat": 4,
 "nbformat_minor": 2
}
